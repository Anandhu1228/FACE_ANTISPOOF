{
 "cells": [
  {
   "cell_type": "markdown",
   "metadata": {},
   "source": [
    "EFFICIENTNET ANTISPOOF MODEL TRAINED BY ANANDHU\n",
    "https://github.com/Anandhu1228"
   ]
  },
  {
   "cell_type": "code",
   "execution_count": 9,
   "metadata": {},
   "outputs": [],
   "source": [
    "import os\n",
    "import torch\n",
    "import torch.nn as nn\n",
    "import torch.optim as optim\n",
    "import torchvision.transforms as transforms\n",
    "from torchvision import datasets\n",
    "from torch.utils.data import DataLoader\n",
    "import timm\n",
    "from tqdm import tqdm\n",
    "from sklearn.metrics import precision_score, recall_score\n",
    "import time\n",
    "import numpy as np"
   ]
  },
  {
   "cell_type": "code",
   "execution_count": 10,
   "metadata": {},
   "outputs": [
    {
     "name": "stdout",
     "output_type": "stream",
     "text": [
      "Train images: 103851\n",
      "Validation images: 18285\n",
      "\n",
      "Class distribution in train:\n",
      "real: 53053\n",
      "spoof: 50798\n",
      "\n",
      "Class distribution in validation:\n",
      "real: 10750\n",
      "spoof: 7535\n"
     ]
    }
   ],
   "source": [
    "dataset_path = \"dataset_heavy_augment\" \n",
    "train_dir = os.path.join(dataset_path, \"train\")\n",
    "val_dir = os.path.join(dataset_path, \"val\")\n",
    "\n",
    "from torchvision.datasets import ImageFolder\n",
    "\n",
    "train_dataset = ImageFolder(root=train_dir)\n",
    "val_dataset = ImageFolder(root=val_dir)\n",
    "\n",
    "print(f\"Train images: {len(train_dataset)}\")\n",
    "print(f\"Validation images: {len(val_dataset)}\")\n",
    "\n",
    "print(\"\\nClass distribution in train:\")\n",
    "for class_idx, count in zip(*np.unique(train_dataset.targets, return_counts=True)):\n",
    "    print(f\"{train_dataset.classes[class_idx]}: {count}\")\n",
    "\n",
    "print(\"\\nClass distribution in validation:\")\n",
    "for class_idx, count in zip(*np.unique(val_dataset.targets, return_counts=True)):\n",
    "    print(f\"{val_dataset.classes[class_idx]}: {count}\")"
   ]
  },
  {
   "cell_type": "code",
   "execution_count": 11,
   "metadata": {},
   "outputs": [],
   "source": [
    "transform = transforms.Compose([\n",
    "    transforms.Resize((224, 224)),\n",
    "    transforms.ToTensor(),\n",
    "    transforms.Normalize(mean=[0.485, 0.456, 0.406], std=[0.229, 0.224, 0.225])\n",
    "])"
   ]
  },
  {
   "cell_type": "code",
   "execution_count": 12,
   "metadata": {},
   "outputs": [],
   "source": [
    "train_dataset = datasets.ImageFolder(root=train_dir, transform=transform)\n",
    "val_dataset = datasets.ImageFolder(root=val_dir, transform=transform)\n",
    "\n",
    "train_loader = DataLoader(train_dataset, batch_size=64, shuffle=True, num_workers=2)\n",
    "val_loader = DataLoader(val_dataset, batch_size=64, shuffle=False, num_workers=2)"
   ]
  },
  {
   "cell_type": "code",
   "execution_count": 13,
   "metadata": {},
   "outputs": [],
   "source": [
    "device = torch.device(\"cuda\" if torch.cuda.is_available() else \"cpu\")\n",
    "model = timm.create_model(\"efficientnet_b0\", pretrained=False, num_classes=2)\n",
    "\n",
    "model = model.to(device)"
   ]
  },
  {
   "cell_type": "code",
   "execution_count": 14,
   "metadata": {},
   "outputs": [],
   "source": [
    "criterion = nn.CrossEntropyLoss()\n",
    "optimizer = optim.Adam(model.parameters(), lr=0.00005)"
   ]
  },
  {
   "cell_type": "code",
   "execution_count": 15,
   "metadata": {},
   "outputs": [],
   "source": [
    "checkpoint_dir = \"runs/classify\"\n",
    "os.makedirs(checkpoint_dir, exist_ok=True)\n",
    "\n",
    "last_checkpoint_path = os.path.join(checkpoint_dir, \"L1_last_checkpoint.pth\")\n",
    "best_acc_path = os.path.join(checkpoint_dir, \"L1_best_acc_model.pth\")\n",
    "best_loss_path = os.path.join(checkpoint_dir, \"L1_best_loss_model.pth\")\n",
    "\n",
    "best_val_acc = 0.0\n",
    "best_val_loss = float('inf')\n",
    "\n",
    "if os.path.exists(last_checkpoint_path):\n",
    "    checkpoint = torch.load(last_checkpoint_path)\n",
    "    model.load_state_dict(checkpoint[\"model_state_dict\"])\n",
    "    optimizer.load_state_dict(checkpoint[\"optimizer_state_dict\"])\n",
    "    start_epoch = checkpoint[\"epoch\"] + 1\n",
    "    best_val_acc = checkpoint.get(\"best_val_acc\", 0.0)\n",
    "    best_val_loss = checkpoint.get(\"best_val_loss\", float('inf'))\n",
    "    print(f\"🔄 Resuming training from epoch {start_epoch}...\")\n",
    "else:\n",
    "    start_epoch = 1"
   ]
  },
  {
   "cell_type": "code",
   "execution_count": 16,
   "metadata": {},
   "outputs": [
    {
     "name": "stderr",
     "output_type": "stream",
     "text": [
      "                                                                                        \r"
     ]
    },
    {
     "name": "stdout",
     "output_type": "stream",
     "text": [
      "\n",
      "✔️ Epoch 1:\n",
      "Train -> Loss: 0.1729    Precision: 0.9347    Recall: 0.9349    Acc: 93.47%\n",
      "Valid -> Loss: 0.8435    Precision: 0.8512    Recall: 0.8426    Acc: 85.26%\n",
      "✅ New best model saved at epoch 1 (Val Acc: 85.26%)\n",
      "☑️ New low loss model saved at epoch 1 (Loss: 0.84)\n"
     ]
    },
    {
     "name": "stderr",
     "output_type": "stream",
     "text": [
      "                                                                                       \r"
     ]
    },
    {
     "name": "stdout",
     "output_type": "stream",
     "text": [
      "\n",
      "✔️ Epoch 2:\n",
      "Train -> Loss: 0.0321    Precision: 0.9900    Recall: 0.9900    Acc: 99.00%\n",
      "Valid -> Loss: 3.8368    Precision: 0.9055    Recall: 0.8652    Acc: 88.53%\n",
      "✅ New best model saved at epoch 2 (Val Acc: 88.53%)\n"
     ]
    },
    {
     "name": "stderr",
     "output_type": "stream",
     "text": [
      "                                                                                        \r"
     ]
    },
    {
     "name": "stdout",
     "output_type": "stream",
     "text": [
      "\n",
      "✔️ Epoch 3:\n",
      "Train -> Loss: 0.0123    Precision: 0.9962    Recall: 0.9962    Acc: 99.62%\n",
      "Valid -> Loss: 1.3357    Precision: 0.9241    Recall: 0.8817    Acc: 90.13%\n",
      "✅ New best model saved at epoch 3 (Val Acc: 90.13%)\n"
     ]
    },
    {
     "name": "stderr",
     "output_type": "stream",
     "text": [
      "                                                                                        \r"
     ]
    },
    {
     "name": "stdout",
     "output_type": "stream",
     "text": [
      "\n",
      "✔️ Epoch 4:\n",
      "Train -> Loss: 0.0087    Precision: 0.9974    Recall: 0.9974    Acc: 99.74%\n",
      "Valid -> Loss: 1.3909    Precision: 0.9265    Recall: 0.9033    Acc: 91.63%\n",
      "✅ New best model saved at epoch 4 (Val Acc: 91.63%)\n"
     ]
    },
    {
     "name": "stderr",
     "output_type": "stream",
     "text": [
      "                                                                                        \r"
     ]
    },
    {
     "name": "stdout",
     "output_type": "stream",
     "text": [
      "\n",
      "✔️ Epoch 5:\n",
      "Train -> Loss: 0.0063    Precision: 0.9982    Recall: 0.9982    Acc: 99.82%\n",
      "Valid -> Loss: 1.2647    Precision: 0.9342    Recall: 0.8933    Acc: 91.19%\n"
     ]
    },
    {
     "name": "stderr",
     "output_type": "stream",
     "text": [
      "                                                                                        \r"
     ]
    },
    {
     "name": "stdout",
     "output_type": "stream",
     "text": [
      "\n",
      "✔️ Epoch 6:\n",
      "Train -> Loss: 0.0048    Precision: 0.9989    Recall: 0.9989    Acc: 99.89%\n",
      "Valid -> Loss: 0.9646    Precision: 0.9365    Recall: 0.8962    Acc: 91.44%\n"
     ]
    },
    {
     "name": "stderr",
     "output_type": "stream",
     "text": [
      "                                                                                        \r"
     ]
    },
    {
     "name": "stdout",
     "output_type": "stream",
     "text": [
      "\n",
      "✔️ Epoch 7:\n",
      "Train -> Loss: 0.0053    Precision: 0.9989    Recall: 0.9989    Acc: 99.89%\n",
      "Valid -> Loss: 0.8541    Precision: 0.9270    Recall: 0.9013    Acc: 91.51%\n"
     ]
    },
    {
     "name": "stderr",
     "output_type": "stream",
     "text": [
      "                                                                                        \r"
     ]
    },
    {
     "name": "stdout",
     "output_type": "stream",
     "text": [
      "\n",
      "✔️ Epoch 8:\n",
      "Train -> Loss: 0.0027    Precision: 0.9993    Recall: 0.9993    Acc: 99.93%\n",
      "Valid -> Loss: 1.8937    Precision: 0.9113    Recall: 0.8492    Acc: 87.54%\n"
     ]
    },
    {
     "name": "stderr",
     "output_type": "stream",
     "text": [
      "                                                                                        \r"
     ]
    },
    {
     "name": "stdout",
     "output_type": "stream",
     "text": [
      "\n",
      "✔️ Epoch 9:\n",
      "Train -> Loss: 0.0009    Precision: 0.9997    Recall: 0.9997    Acc: 99.97%\n",
      "Valid -> Loss: 1.2319    Precision: 0.9441    Recall: 0.9102    Acc: 92.60%\n",
      "✅ New best model saved at epoch 9 (Val Acc: 92.60%)\n"
     ]
    },
    {
     "name": "stderr",
     "output_type": "stream",
     "text": [
      "                                                                                         \r"
     ]
    },
    {
     "name": "stdout",
     "output_type": "stream",
     "text": [
      "\n",
      "✔️ Epoch 10:\n",
      "Train -> Loss: 0.0022    Precision: 0.9994    Recall: 0.9994    Acc: 99.94%\n",
      "Valid -> Loss: 1.6468    Precision: 0.9182    Recall: 0.8607    Acc: 88.52%\n"
     ]
    },
    {
     "name": "stderr",
     "output_type": "stream",
     "text": [
      "                                                                                         \r"
     ]
    },
    {
     "name": "stdout",
     "output_type": "stream",
     "text": [
      "\n",
      "✔️ Epoch 11:\n",
      "Train -> Loss: 0.0014    Precision: 0.9996    Recall: 0.9996    Acc: 99.96%\n",
      "Valid -> Loss: 1.7811    Precision: 0.9163    Recall: 0.8568    Acc: 88.19%\n"
     ]
    },
    {
     "name": "stderr",
     "output_type": "stream",
     "text": [
      "                                                                                         \r"
     ]
    },
    {
     "name": "stdout",
     "output_type": "stream",
     "text": [
      "\n",
      "✔️ Epoch 12:\n",
      "Train -> Loss: 0.0015    Precision: 0.9996    Recall: 0.9996    Acc: 99.96%\n",
      "Valid -> Loss: 1.5256    Precision: 0.9284    Recall: 0.8809    Acc: 90.18%\n"
     ]
    },
    {
     "name": "stderr",
     "output_type": "stream",
     "text": [
      "                                                                                         \r"
     ]
    },
    {
     "name": "stdout",
     "output_type": "stream",
     "text": [
      "\n",
      "✔️ Epoch 13:\n",
      "Train -> Loss: 0.0013    Precision: 0.9997    Recall: 0.9997    Acc: 99.97%\n",
      "Valid -> Loss: 1.4291    Precision: 0.9343    Recall: 0.8924    Acc: 91.13%\n"
     ]
    },
    {
     "name": "stderr",
     "output_type": "stream",
     "text": [
      "                                                                                         \r"
     ]
    },
    {
     "name": "stdout",
     "output_type": "stream",
     "text": [
      "\n",
      "✔️ Epoch 14:\n",
      "Train -> Loss: 0.0013    Precision: 0.9996    Recall: 0.9996    Acc: 99.96%\n",
      "Valid -> Loss: 2.1152    Precision: 0.9236    Recall: 0.8720    Acc: 89.44%\n"
     ]
    },
    {
     "name": "stderr",
     "output_type": "stream",
     "text": [
      "                                                                                         \r"
     ]
    },
    {
     "name": "stdout",
     "output_type": "stream",
     "text": [
      "\n",
      "✔️ Epoch 15:\n",
      "Train -> Loss: 0.0019    Precision: 0.9996    Recall: 0.9996    Acc: 99.96%\n",
      "Valid -> Loss: 1.3898    Precision: 0.9181    Recall: 0.8612    Acc: 88.55%\n"
     ]
    },
    {
     "name": "stderr",
     "output_type": "stream",
     "text": [
      "                                                                                         \r"
     ]
    },
    {
     "name": "stdout",
     "output_type": "stream",
     "text": [
      "\n",
      "✔️ Epoch 16:\n",
      "Train -> Loss: 0.0006    Precision: 0.9999    Recall: 0.9999    Acc: 99.99%\n",
      "Valid -> Loss: 1.8743    Precision: 0.9218    Recall: 0.8679    Acc: 89.11%\n"
     ]
    },
    {
     "name": "stderr",
     "output_type": "stream",
     "text": [
      "                                                                                         \r"
     ]
    },
    {
     "name": "stdout",
     "output_type": "stream",
     "text": [
      "\n",
      "✔️ Epoch 17:\n",
      "Train -> Loss: 0.0008    Precision: 0.9997    Recall: 0.9997    Acc: 99.97%\n",
      "Valid -> Loss: 1.8070    Precision: 0.9036    Recall: 0.8502    Acc: 87.44%\n"
     ]
    },
    {
     "name": "stderr",
     "output_type": "stream",
     "text": [
      "                                                                                         \r"
     ]
    },
    {
     "name": "stdout",
     "output_type": "stream",
     "text": [
      "\n",
      "✔️ Epoch 18:\n",
      "Train -> Loss: 0.0006    Precision: 0.9998    Recall: 0.9998    Acc: 99.98%\n",
      "Valid -> Loss: 1.3908    Precision: 0.9363    Recall: 0.8996    Acc: 91.67%\n"
     ]
    },
    {
     "name": "stderr",
     "output_type": "stream",
     "text": [
      "                                                                                         \r"
     ]
    },
    {
     "name": "stdout",
     "output_type": "stream",
     "text": [
      "\n",
      "✔️ Epoch 19:\n",
      "Train -> Loss: 0.0007    Precision: 0.9998    Recall: 0.9998    Acc: 99.98%\n",
      "Valid -> Loss: 1.6890    Precision: 0.9252    Recall: 0.8745    Acc: 89.66%\n"
     ]
    },
    {
     "name": "stderr",
     "output_type": "stream",
     "text": [
      "                                                                                         \r"
     ]
    },
    {
     "name": "stdout",
     "output_type": "stream",
     "text": [
      "\n",
      "✔️ Epoch 20:\n",
      "Train -> Loss: 0.0008    Precision: 0.9998    Recall: 0.9998    Acc: 99.98%\n",
      "Valid -> Loss: 0.7609    Precision: 0.9605    Recall: 0.9391    Acc: 94.97%\n",
      "✅ New best model saved at epoch 20 (Val Acc: 94.97%)\n",
      "☑️ New low loss model saved at epoch 20 (Loss: 0.76)\n"
     ]
    },
    {
     "name": "stderr",
     "output_type": "stream",
     "text": [
      "                                                                                        \r"
     ]
    },
    {
     "name": "stdout",
     "output_type": "stream",
     "text": [
      "\n",
      "✔️ Epoch 21:\n",
      "Train -> Loss: 0.0001    Precision: 1.0000    Recall: 1.0000    Acc: 100.00%\n",
      "Valid -> Loss: 0.9265    Precision: 0.9549    Recall: 0.9293    Acc: 94.18%\n"
     ]
    },
    {
     "name": "stderr",
     "output_type": "stream",
     "text": [
      "                                                                                         \r"
     ]
    },
    {
     "name": "stdout",
     "output_type": "stream",
     "text": [
      "\n",
      "✔️ Epoch 22:\n",
      "Train -> Loss: 0.0005    Precision: 0.9998    Recall: 0.9998    Acc: 99.98%\n",
      "Valid -> Loss: 1.8801    Precision: 0.9275    Recall: 0.8795    Acc: 90.06%\n"
     ]
    },
    {
     "name": "stderr",
     "output_type": "stream",
     "text": [
      "                                                                                         \r"
     ]
    },
    {
     "name": "stdout",
     "output_type": "stream",
     "text": [
      "\n",
      "✔️ Epoch 23:\n",
      "Train -> Loss: 0.0003    Precision: 0.9999    Recall: 0.9999    Acc: 99.99%\n",
      "Valid -> Loss: 3.3471    Precision: 0.9010    Recall: 0.8240    Acc: 85.49%\n"
     ]
    },
    {
     "name": "stderr",
     "output_type": "stream",
     "text": [
      "                                                                                         \r"
     ]
    },
    {
     "name": "stdout",
     "output_type": "stream",
     "text": [
      "\n",
      "✔️ Epoch 24:\n",
      "Train -> Loss: 0.0008    Precision: 0.9998    Recall: 0.9998    Acc: 99.98%\n",
      "Valid -> Loss: 2.1351    Precision: 0.9145    Recall: 0.8530    Acc: 87.88%\n"
     ]
    },
    {
     "name": "stderr",
     "output_type": "stream",
     "text": [
      "                                                                                         \r"
     ]
    },
    {
     "name": "stdout",
     "output_type": "stream",
     "text": [
      "\n",
      "✔️ Epoch 25:\n",
      "Train -> Loss: 0.0007    Precision: 0.9998    Recall: 0.9998    Acc: 99.98%\n",
      "Valid -> Loss: 1.7924    Precision: 0.9251    Recall: 0.8746    Acc: 89.66%\n"
     ]
    },
    {
     "name": "stderr",
     "output_type": "stream",
     "text": [
      "                                                                                         \r"
     ]
    },
    {
     "name": "stdout",
     "output_type": "stream",
     "text": [
      "\n",
      "✔️ Epoch 26:\n",
      "Train -> Loss: 0.0003    Precision: 0.9999    Recall: 0.9999    Acc: 99.99%\n",
      "Valid -> Loss: 1.3292    Precision: 0.9344    Recall: 0.8923    Acc: 91.12%\n"
     ]
    },
    {
     "name": "stderr",
     "output_type": "stream",
     "text": [
      "                                                                                         \r"
     ]
    },
    {
     "name": "stdout",
     "output_type": "stream",
     "text": [
      "\n",
      "✔️ Epoch 27:\n",
      "Train -> Loss: 0.0004    Precision: 0.9999    Recall: 0.9999    Acc: 99.99%\n",
      "Valid -> Loss: 2.9004    Precision: 0.9099    Recall: 0.8432    Acc: 87.08%\n"
     ]
    },
    {
     "name": "stderr",
     "output_type": "stream",
     "text": [
      "                                                                                         \r"
     ]
    },
    {
     "name": "stdout",
     "output_type": "stream",
     "text": [
      "\n",
      "✔️ Epoch 28:\n",
      "Train -> Loss: 0.0006    Precision: 0.9999    Recall: 0.9999    Acc: 99.99%\n",
      "Valid -> Loss: 1.9160    Precision: 0.9081    Recall: 0.8393    Acc: 86.75%\n"
     ]
    },
    {
     "name": "stderr",
     "output_type": "stream",
     "text": [
      "                                                                                        \r"
     ]
    },
    {
     "name": "stdout",
     "output_type": "stream",
     "text": [
      "\n",
      "✔️ Epoch 29:\n",
      "Train -> Loss: 0.0000    Precision: 1.0000    Recall: 1.0000    Acc: 100.00%\n",
      "Valid -> Loss: 2.2102    Precision: 0.9114    Recall: 0.8464    Acc: 87.34%\n"
     ]
    },
    {
     "name": "stderr",
     "output_type": "stream",
     "text": [
      "                                                                                        \r"
     ]
    },
    {
     "name": "stdout",
     "output_type": "stream",
     "text": [
      "\n",
      "✔️ Epoch 30:\n",
      "Train -> Loss: 0.0000    Precision: 1.0000    Recall: 1.0000    Acc: 100.00%\n",
      "Valid -> Loss: 2.5421    Precision: 0.9062    Recall: 0.8353    Acc: 86.43%\n"
     ]
    },
    {
     "name": "stderr",
     "output_type": "stream",
     "text": [
      "                                                                                        \r"
     ]
    },
    {
     "name": "stdout",
     "output_type": "stream",
     "text": [
      "\n",
      "✔️ Epoch 31:\n",
      "Train -> Loss: 0.0000    Precision: 1.0000    Recall: 1.0000    Acc: 100.00%\n",
      "Valid -> Loss: 2.4254    Precision: 0.9092    Recall: 0.8418    Acc: 86.96%\n"
     ]
    },
    {
     "name": "stderr",
     "output_type": "stream",
     "text": [
      "                                                                                        \r"
     ]
    },
    {
     "name": "stdout",
     "output_type": "stream",
     "text": [
      "\n",
      "✔️ Epoch 32:\n",
      "Train -> Loss: 0.0000    Precision: 1.0000    Recall: 1.0000    Acc: 100.00%\n",
      "Valid -> Loss: 1.7708    Precision: 0.9393    Recall: 0.9016    Acc: 91.89%\n"
     ]
    },
    {
     "name": "stderr",
     "output_type": "stream",
     "text": [
      "                                                                                         \r"
     ]
    },
    {
     "name": "stdout",
     "output_type": "stream",
     "text": [
      "\n",
      "✔️ Epoch 33:\n",
      "Train -> Loss: 0.0008    Precision: 0.9998    Recall: 0.9998    Acc: 99.98%\n",
      "Valid -> Loss: 3.9672    Precision: 0.8959    Recall: 0.8129    Acc: 84.58%\n"
     ]
    },
    {
     "name": "stderr",
     "output_type": "stream",
     "text": [
      "                                                                                         \r"
     ]
    },
    {
     "name": "stdout",
     "output_type": "stream",
     "text": [
      "\n",
      "✔️ Epoch 34:\n",
      "Train -> Loss: 0.0002    Precision: 0.9999    Recall: 0.9999    Acc: 99.99%\n",
      "Valid -> Loss: 3.8399    Precision: 0.9101    Recall: 0.8436    Acc: 87.11%\n"
     ]
    },
    {
     "name": "stderr",
     "output_type": "stream",
     "text": [
      "                                                                                         \r"
     ]
    },
    {
     "name": "stdout",
     "output_type": "stream",
     "text": [
      "\n",
      "✔️ Epoch 35:\n",
      "Train -> Loss: 0.0004    Precision: 0.9998    Recall: 0.9998    Acc: 99.98%\n",
      "Valid -> Loss: 3.3890    Precision: 0.9104    Recall: 0.8443    Acc: 87.16%\n"
     ]
    },
    {
     "name": "stderr",
     "output_type": "stream",
     "text": [
      "                                                                                        \r"
     ]
    },
    {
     "name": "stdout",
     "output_type": "stream",
     "text": [
      "\n",
      "✔️ Epoch 36:\n",
      "Train -> Loss: 0.0000    Precision: 1.0000    Recall: 1.0000    Acc: 100.00%\n",
      "Valid -> Loss: 3.3578    Precision: 0.9071    Recall: 0.8373    Acc: 86.59%\n"
     ]
    },
    {
     "name": "stderr",
     "output_type": "stream",
     "text": [
      "                                                                                        \r"
     ]
    },
    {
     "name": "stdout",
     "output_type": "stream",
     "text": [
      "\n",
      "✔️ Epoch 37:\n",
      "Train -> Loss: 0.0000    Precision: 1.0000    Recall: 1.0000    Acc: 100.00%\n",
      "Valid -> Loss: 3.6764    Precision: 0.9096    Recall: 0.8425    Acc: 87.02%\n"
     ]
    },
    {
     "name": "stderr",
     "output_type": "stream",
     "text": [
      "                                                                                        \r"
     ]
    },
    {
     "name": "stdout",
     "output_type": "stream",
     "text": [
      "\n",
      "✔️ Epoch 38:\n",
      "Train -> Loss: 0.0000    Precision: 1.0000    Recall: 1.0000    Acc: 100.00%\n",
      "Valid -> Loss: 3.5679    Precision: 0.9079    Recall: 0.8390    Acc: 86.73%\n"
     ]
    },
    {
     "name": "stderr",
     "output_type": "stream",
     "text": [
      "                                                                                       \r"
     ]
    },
    {
     "ename": "KeyboardInterrupt",
     "evalue": "",
     "output_type": "error",
     "traceback": [
      "\u001b[1;31m---------------------------------------------------------------------------\u001b[0m",
      "\u001b[1;31mKeyboardInterrupt\u001b[0m                         Traceback (most recent call last)",
      "Cell \u001b[1;32mIn[16], line 21\u001b[0m\n\u001b[0;32m     18\u001b[0m optimizer\u001b[38;5;241m.\u001b[39mstep()\n\u001b[0;32m     20\u001b[0m running_loss \u001b[38;5;241m+\u001b[39m\u001b[38;5;241m=\u001b[39m loss\u001b[38;5;241m.\u001b[39mitem()\n\u001b[1;32m---> 21\u001b[0m _, predicted \u001b[38;5;241m=\u001b[39m \u001b[43moutputs\u001b[49m\u001b[38;5;241;43m.\u001b[39;49m\u001b[43mmax\u001b[49m\u001b[43m(\u001b[49m\u001b[38;5;241;43m1\u001b[39;49m\u001b[43m)\u001b[49m\n\u001b[0;32m     22\u001b[0m correct \u001b[38;5;241m+\u001b[39m\u001b[38;5;241m=\u001b[39m predicted\u001b[38;5;241m.\u001b[39meq(labels)\u001b[38;5;241m.\u001b[39msum()\u001b[38;5;241m.\u001b[39mitem()\n\u001b[0;32m     23\u001b[0m total \u001b[38;5;241m+\u001b[39m\u001b[38;5;241m=\u001b[39m labels\u001b[38;5;241m.\u001b[39msize(\u001b[38;5;241m0\u001b[39m)\n",
      "\u001b[1;31mKeyboardInterrupt\u001b[0m: "
     ]
    }
   ],
   "source": [
    "num_epochs = 180\n",
    "for epoch in range(start_epoch, num_epochs + 1):\n",
    "    model.train()\n",
    "    running_loss = 0.0\n",
    "    correct = 0\n",
    "    total = 0\n",
    "    all_preds, all_labels = [], []\n",
    "\n",
    "    progress_bar = tqdm(train_loader, desc=f\"Epoch {epoch}/{num_epochs}\", leave=False)\n",
    "    \n",
    "    for images, labels in progress_bar:\n",
    "        images, labels = images.to(device), labels.to(device)\n",
    "        \n",
    "        optimizer.zero_grad()\n",
    "        outputs = model(images)\n",
    "        loss = criterion(outputs, labels)\n",
    "        loss.backward()\n",
    "        optimizer.step()\n",
    "        \n",
    "        running_loss += loss.item()\n",
    "        _, predicted = outputs.max(1)\n",
    "        correct += predicted.eq(labels).sum().item()\n",
    "        total += labels.size(0)\n",
    "        all_preds.extend(predicted.cpu().numpy())\n",
    "        all_labels.extend(labels.cpu().numpy())\n",
    "\n",
    "        progress_bar.set_postfix(loss=running_loss/len(train_loader), acc=100.*correct/total)\n",
    "\n",
    "    train_loss = running_loss / len(train_loader)\n",
    "    train_acc = 100. * correct / total\n",
    "    train_precision = precision_score(all_labels, all_preds, average='macro', zero_division=0)\n",
    "    train_recall = recall_score(all_labels, all_preds, average='macro', zero_division=0)\n",
    "\n",
    "    model.eval()\n",
    "    val_loss = 0.0\n",
    "    val_correct = 0\n",
    "    val_total = 0\n",
    "    val_all_preds, val_all_labels = [], []\n",
    "\n",
    "    with torch.no_grad():\n",
    "        for images, labels in val_loader:\n",
    "            images, labels = images.to(device), labels.to(device)\n",
    "            outputs = model(images)\n",
    "            loss = criterion(outputs, labels)\n",
    "            val_loss += loss.item()\n",
    "            _, predicted = outputs.max(1)\n",
    "            val_correct += predicted.eq(labels).sum().item()\n",
    "            val_total += labels.size(0)\n",
    "            val_all_preds.extend(predicted.cpu().numpy())\n",
    "            val_all_labels.extend(labels.cpu().numpy())\n",
    "\n",
    "    val_loss /= len(val_loader)\n",
    "    val_acc = 100. * val_correct / val_total\n",
    "    val_precision = precision_score(val_all_labels, val_all_preds, average='macro', zero_division=0)\n",
    "    val_recall = recall_score(val_all_labels, val_all_preds, average='macro', zero_division=0)\n",
    "\n",
    "    print(f\"\\n✔️ Epoch {epoch}:\")\n",
    "    print(f\"Train -> Loss: {train_loss:.4f}    Precision: {train_precision:.4f}    Recall: {train_recall:.4f}    Acc: {train_acc:.2f}%\")\n",
    "    print(f\"Valid -> Loss: {val_loss:.4f}    Precision: {val_precision:.4f}    Recall: {val_recall:.4f}    Acc: {val_acc:.2f}%\")\n",
    "\n",
    "    torch.save({\n",
    "        \"epoch\": epoch,\n",
    "        \"model_state_dict\": model.state_dict(),\n",
    "        \"optimizer_state_dict\": optimizer.state_dict(),\n",
    "        \"best_val_acc\": best_val_acc,\n",
    "        \"val_acc\": val_acc,\n",
    "    }, last_checkpoint_path)\n",
    "\n",
    "    if val_acc > best_val_acc:\n",
    "        best_val_acc = val_acc\n",
    "        torch.save(model.state_dict(), best_acc_path)\n",
    "        print(f\"✅ New best model saved at epoch {epoch} (Val Acc: {val_acc:.2f}%)\")\n",
    "\n",
    "    if val_loss < best_val_loss:\n",
    "        best_val_loss = val_loss\n",
    "        torch.save(model.state_dict(), best_loss_path)\n",
    "        print(f\"☑️ New low loss model saved at epoch {epoch} (Loss: {val_loss:.2f})\")\n"
   ]
  },
  {
   "cell_type": "code",
   "execution_count": null,
   "metadata": {},
   "outputs": [],
   "source": [
    "timestamp = time.strftime(\"%Y%m%d_%H%M%S\")\n",
    "final_model_path = os.path.join(checkpoint_dir, f\"final_model_{timestamp}.pth\")\n",
    "torch.save(model.state_dict(), final_model_path)\n",
    "\n",
    "if os.path.exists(last_checkpoint_path):\n",
    "    os.remove(last_checkpoint_path)\n",
    "\n",
    "print(f\"\\n🎯 Training Complete!\")\n",
    "print(f\"Best Accuracy Model: {best_val_acc:.2f}% (saved to {best_acc_path})\")\n",
    "print(f\"Best Loss Model: {best_val_loss:.4f} (saved to {best_loss_path})\")\n",
    "print(f\"Final Model: {final_model_path}\")"
   ]
  }
 ],
 "metadata": {
  "kernelspec": {
   "display_name": "Python 3",
   "language": "python",
   "name": "python3"
  },
  "language_info": {
   "codemirror_mode": {
    "name": "ipython",
    "version": 3
   },
   "file_extension": ".py",
   "mimetype": "text/x-python",
   "name": "python",
   "nbconvert_exporter": "python",
   "pygments_lexer": "ipython3",
   "version": "3.10.0"
  }
 },
 "nbformat": 4,
 "nbformat_minor": 2
}
